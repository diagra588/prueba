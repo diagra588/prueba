{
 "cells": [
  {
   "cell_type": "markdown",
   "metadata": {},
   "source": [
    "# Keras\n",
    "\n",
    "Keras es una librería de alto nivel para generar redes neuronales. Fue concebida para funcionar como una interfaz amigable hacia el framework de inteligencia artificial *Tensorflow*, desarrollado por Google.\n",
    "\n",
    "_Código tomado en parte de [este link](https://machinelearningmastery.com/tutorial-first-neural-network-python-keras/)._"
   ]
  },
  {
   "cell_type": "code",
   "execution_count": 1,
   "metadata": {},
   "outputs": [],
   "source": [
    "import pandas as pd\n",
    "import matplotlib.pyplot as plt\n",
    "\n",
    "# Red neuronal secuencial\n",
    "from tensorflow.keras.models import Sequential\n",
    "# Capa completamente conectada\n",
    "from tensorflow.keras.layers import Dense\n",
    "# Optimizador\n",
    "from tensorflow.keras.optimizers import Adam"
   ]
  },
  {
   "cell_type": "code",
   "execution_count": 2,
   "metadata": {},
   "outputs": [
    {
     "name": "stdout",
     "output_type": "stream",
     "text": [
      "<class 'pandas.core.frame.DataFrame'>\n",
      "RangeIndex: 768 entries, 0 to 767\n",
      "Data columns (total 9 columns):\n",
      " #   Column  Non-Null Count  Dtype  \n",
      "---  ------  --------------  -----  \n",
      " 0   0       768 non-null    int64  \n",
      " 1   1       768 non-null    int64  \n",
      " 2   2       768 non-null    int64  \n",
      " 3   3       768 non-null    int64  \n",
      " 4   4       768 non-null    int64  \n",
      " 5   5       768 non-null    float64\n",
      " 6   6       768 non-null    float64\n",
      " 7   7       768 non-null    int64  \n",
      " 8   8       768 non-null    int64  \n",
      "dtypes: float64(2), int64(7)\n",
      "memory usage: 54.1 KB\n"
     ]
    }
   ],
   "source": [
    "data_df = pd.read_csv(\"diabetes.csv\", header=None)\n",
    "data_df.info()"
   ]
  },
  {
   "cell_type": "code",
   "execution_count": 3,
   "metadata": {},
   "outputs": [],
   "source": [
    "X = data_df.iloc[:,0:8]\n",
    "y = data_df.iloc[:,8]"
   ]
  },
  {
   "cell_type": "code",
   "execution_count": 4,
   "metadata": {},
   "outputs": [
    {
     "data": {
      "text/plain": [
       "(768, 8)"
      ]
     },
     "execution_count": 4,
     "metadata": {},
     "output_type": "execute_result"
    }
   ],
   "source": [
    "X.shape"
   ]
  },
  {
   "cell_type": "code",
   "execution_count": 5,
   "metadata": {},
   "outputs": [],
   "source": [
    "# Crear red neuronal \n",
    "model = Sequential()\n",
    "\n",
    "# Primer parámetro: cantidad de neuronas\n",
    "# Segundo (solo en la primer capa): cantidad de entrada\n",
    "model.add(Dense(12, input_dim=8, activation='relu'))\n",
    "model.add(Dense(8, activation='relu'))\n",
    "\n",
    "model.add(Dense(1, activation='sigmoid'))"
   ]
  },
  {
   "cell_type": "code",
   "execution_count": 6,
   "metadata": {
    "scrolled": false
   },
   "outputs": [
    {
     "name": "stdout",
     "output_type": "stream",
     "text": [
      "Model: \"sequential\"\n",
      "_________________________________________________________________\n",
      " Layer (type)                Output Shape              Param #   \n",
      "=================================================================\n",
      " dense (Dense)               (None, 12)                108       \n",
      "                                                                 \n",
      " dense_1 (Dense)             (None, 8)                 104       \n",
      "                                                                 \n",
      " dense_2 (Dense)             (None, 1)                 9         \n",
      "                                                                 \n",
      "=================================================================\n",
      "Total params: 221\n",
      "Trainable params: 221\n",
      "Non-trainable params: 0\n",
      "_________________________________________________________________\n"
     ]
    }
   ],
   "source": [
    "model.summary()"
   ]
  },
  {
   "cell_type": "code",
   "execution_count": 8,
   "metadata": {},
   "outputs": [],
   "source": [
    "model.compile(\n",
    "    loss='binary_crossentropy',\n",
    "    optimizer='adam',\n",
    "    metrics=['accuracy']\n",
    ")"
   ]
  },
  {
   "cell_type": "code",
   "execution_count": 9,
   "metadata": {
    "scrolled": true
   },
   "outputs": [
    {
     "name": "stdout",
     "output_type": "stream",
     "text": [
      "Epoch 1/75\n",
      "24/24 - 0s - loss: 10.1036 - accuracy: 0.3607 - 320ms/epoch - 13ms/step\n",
      "Epoch 2/75\n",
      "24/24 - 0s - loss: 4.0595 - accuracy: 0.4701 - 17ms/epoch - 705us/step\n",
      "Epoch 3/75\n",
      "24/24 - 0s - loss: 3.3710 - accuracy: 0.4102 - 17ms/epoch - 706us/step\n",
      "Epoch 4/75\n",
      "24/24 - 0s - loss: 2.8034 - accuracy: 0.4219 - 17ms/epoch - 706us/step\n",
      "Epoch 5/75\n",
      "24/24 - 0s - loss: 2.2830 - accuracy: 0.4010 - 17ms/epoch - 706us/step\n",
      "Epoch 6/75\n",
      "24/24 - 0s - loss: 1.8261 - accuracy: 0.4414 - 16ms/epoch - 665us/step\n",
      "Epoch 7/75\n",
      "24/24 - 0s - loss: 1.4731 - accuracy: 0.4466 - 18ms/epoch - 748us/step\n",
      "Epoch 8/75\n",
      "24/24 - 0s - loss: 1.1799 - accuracy: 0.5052 - 17ms/epoch - 706us/step\n",
      "Epoch 9/75\n",
      "24/24 - 0s - loss: 0.9691 - accuracy: 0.5391 - 17ms/epoch - 706us/step\n",
      "Epoch 10/75\n",
      "24/24 - 0s - loss: 0.8360 - accuracy: 0.5794 - 17ms/epoch - 706us/step\n",
      "Epoch 11/75\n",
      "24/24 - 0s - loss: 0.7569 - accuracy: 0.6393 - 16ms/epoch - 665us/step\n",
      "Epoch 12/75\n",
      "24/24 - 0s - loss: 0.7137 - accuracy: 0.6471 - 16ms/epoch - 680us/step\n",
      "Epoch 13/75\n",
      "24/24 - 0s - loss: 0.6814 - accuracy: 0.6836 - 17ms/epoch - 706us/step\n",
      "Epoch 14/75\n",
      "24/24 - 0s - loss: 0.7111 - accuracy: 0.6602 - 18ms/epoch - 748us/step\n",
      "Epoch 15/75\n",
      "24/24 - 0s - loss: 0.6658 - accuracy: 0.6836 - 19ms/epoch - 790us/step\n",
      "Epoch 16/75\n",
      "24/24 - 0s - loss: 0.6806 - accuracy: 0.6615 - 17ms/epoch - 706us/step\n",
      "Epoch 17/75\n",
      "24/24 - 0s - loss: 0.6466 - accuracy: 0.6862 - 18ms/epoch - 748us/step\n",
      "Epoch 18/75\n",
      "24/24 - 0s - loss: 0.6377 - accuracy: 0.6940 - 16ms/epoch - 665us/step\n",
      "Epoch 19/75\n",
      "24/24 - 0s - loss: 0.6269 - accuracy: 0.7018 - 17ms/epoch - 706us/step\n",
      "Epoch 20/75\n",
      "24/24 - 0s - loss: 0.6151 - accuracy: 0.7044 - 15ms/epoch - 623us/step\n",
      "Epoch 21/75\n",
      "24/24 - 0s - loss: 0.6233 - accuracy: 0.6927 - 16ms/epoch - 665us/step\n",
      "Epoch 22/75\n",
      "24/24 - 0s - loss: 0.6238 - accuracy: 0.6927 - 18ms/epoch - 748us/step\n",
      "Epoch 23/75\n",
      "24/24 - 0s - loss: 0.6101 - accuracy: 0.7057 - 17ms/epoch - 706us/step\n",
      "Epoch 24/75\n",
      "24/24 - 0s - loss: 0.6130 - accuracy: 0.7148 - 18ms/epoch - 748us/step\n",
      "Epoch 25/75\n",
      "24/24 - 0s - loss: 0.6035 - accuracy: 0.6940 - 17ms/epoch - 706us/step\n",
      "Epoch 26/75\n",
      "24/24 - 0s - loss: 0.6402 - accuracy: 0.6823 - 16ms/epoch - 665us/step\n",
      "Epoch 27/75\n",
      "24/24 - 0s - loss: 0.6067 - accuracy: 0.6979 - 16ms/epoch - 665us/step\n",
      "Epoch 28/75\n",
      "24/24 - 0s - loss: 0.6194 - accuracy: 0.6927 - 16ms/epoch - 682us/step\n",
      "Epoch 29/75\n",
      "24/24 - 0s - loss: 0.6138 - accuracy: 0.7005 - 16ms/epoch - 665us/step\n",
      "Epoch 30/75\n",
      "24/24 - 0s - loss: 0.5932 - accuracy: 0.7292 - 16ms/epoch - 665us/step\n",
      "Epoch 31/75\n",
      "24/24 - 0s - loss: 0.6159 - accuracy: 0.6862 - 17ms/epoch - 706us/step\n",
      "Epoch 32/75\n",
      "24/24 - 0s - loss: 0.6178 - accuracy: 0.7018 - 15ms/epoch - 623us/step\n",
      "Epoch 33/75\n",
      "24/24 - 0s - loss: 0.5932 - accuracy: 0.6992 - 16ms/epoch - 665us/step\n",
      "Epoch 34/75\n",
      "24/24 - 0s - loss: 0.5827 - accuracy: 0.7174 - 15ms/epoch - 623us/step\n",
      "Epoch 35/75\n",
      "24/24 - 0s - loss: 0.5987 - accuracy: 0.7057 - 15ms/epoch - 623us/step\n",
      "Epoch 36/75\n",
      "24/24 - 0s - loss: 0.5844 - accuracy: 0.7240 - 16ms/epoch - 665us/step\n",
      "Epoch 37/75\n",
      "24/24 - 0s - loss: 0.6113 - accuracy: 0.6953 - 16ms/epoch - 665us/step\n",
      "Epoch 38/75\n",
      "24/24 - 0s - loss: 0.6072 - accuracy: 0.6914 - 17ms/epoch - 706us/step\n",
      "Epoch 39/75\n",
      "24/24 - 0s - loss: 0.5887 - accuracy: 0.7096 - 18ms/epoch - 748us/step\n",
      "Epoch 40/75\n",
      "24/24 - 0s - loss: 0.5829 - accuracy: 0.7357 - 16ms/epoch - 665us/step\n",
      "Epoch 41/75\n",
      "24/24 - 0s - loss: 0.5875 - accuracy: 0.7135 - 16ms/epoch - 665us/step\n",
      "Epoch 42/75\n",
      "24/24 - 0s - loss: 0.5955 - accuracy: 0.6940 - 15ms/epoch - 623us/step\n",
      "Epoch 43/75\n",
      "24/24 - 0s - loss: 0.5860 - accuracy: 0.7096 - 19ms/epoch - 790us/step\n",
      "Epoch 44/75\n",
      "24/24 - 0s - loss: 0.5760 - accuracy: 0.7174 - 18ms/epoch - 748us/step\n",
      "Epoch 45/75\n",
      "24/24 - 0s - loss: 0.5992 - accuracy: 0.7057 - 16ms/epoch - 665us/step\n",
      "Epoch 46/75\n",
      "24/24 - 0s - loss: 0.5792 - accuracy: 0.7188 - 16ms/epoch - 665us/step\n",
      "Epoch 47/75\n",
      "24/24 - 0s - loss: 0.5810 - accuracy: 0.7057 - 15ms/epoch - 623us/step\n",
      "Epoch 48/75\n",
      "24/24 - 0s - loss: 0.5663 - accuracy: 0.7174 - 15ms/epoch - 623us/step\n",
      "Epoch 49/75\n",
      "24/24 - 0s - loss: 0.5781 - accuracy: 0.7083 - 18ms/epoch - 748us/step\n",
      "Epoch 50/75\n",
      "24/24 - 0s - loss: 0.5707 - accuracy: 0.7214 - 16ms/epoch - 665us/step\n",
      "Epoch 51/75\n",
      "24/24 - 0s - loss: 0.5750 - accuracy: 0.7201 - 14ms/epoch - 582us/step\n",
      "Epoch 52/75\n",
      "24/24 - 0s - loss: 0.5753 - accuracy: 0.7266 - 16ms/epoch - 665us/step\n",
      "Epoch 53/75\n",
      "24/24 - 0s - loss: 0.5786 - accuracy: 0.7161 - 15ms/epoch - 623us/step\n",
      "Epoch 54/75\n",
      "24/24 - 0s - loss: 0.5796 - accuracy: 0.7135 - 16ms/epoch - 665us/step\n",
      "Epoch 55/75\n",
      "24/24 - 0s - loss: 0.5676 - accuracy: 0.7266 - 16ms/epoch - 686us/step\n",
      "Epoch 56/75\n",
      "24/24 - 0s - loss: 0.5656 - accuracy: 0.7096 - 16ms/epoch - 665us/step\n",
      "Epoch 57/75\n",
      "24/24 - 0s - loss: 0.5670 - accuracy: 0.7188 - 15ms/epoch - 623us/step\n",
      "Epoch 58/75\n",
      "24/24 - 0s - loss: 0.5663 - accuracy: 0.7096 - 16ms/epoch - 665us/step\n",
      "Epoch 59/75\n",
      "24/24 - 0s - loss: 0.5763 - accuracy: 0.7122 - 15ms/epoch - 623us/step\n",
      "Epoch 60/75\n",
      "24/24 - 0s - loss: 0.5592 - accuracy: 0.7201 - 16ms/epoch - 665us/step\n",
      "Epoch 61/75\n",
      "24/24 - 0s - loss: 0.5634 - accuracy: 0.7214 - 16ms/epoch - 665us/step\n",
      "Epoch 62/75\n",
      "24/24 - 0s - loss: 0.5574 - accuracy: 0.7227 - 15ms/epoch - 623us/step\n",
      "Epoch 63/75\n",
      "24/24 - 0s - loss: 0.5605 - accuracy: 0.7305 - 16ms/epoch - 665us/step\n",
      "Epoch 64/75\n",
      "24/24 - 0s - loss: 0.5581 - accuracy: 0.7318 - 16ms/epoch - 665us/step\n",
      "Epoch 65/75\n",
      "24/24 - 0s - loss: 0.5557 - accuracy: 0.7227 - 18ms/epoch - 748us/step\n",
      "Epoch 66/75\n",
      "24/24 - 0s - loss: 0.5692 - accuracy: 0.7383 - 16ms/epoch - 665us/step\n",
      "Epoch 67/75\n",
      "24/24 - 0s - loss: 0.5813 - accuracy: 0.7070 - 16ms/epoch - 665us/step\n",
      "Epoch 68/75\n",
      "24/24 - 0s - loss: 0.5525 - accuracy: 0.7318 - 15ms/epoch - 623us/step\n",
      "Epoch 69/75\n",
      "24/24 - 0s - loss: 0.5508 - accuracy: 0.7357 - 15ms/epoch - 623us/step\n",
      "Epoch 70/75\n",
      "24/24 - 0s - loss: 0.5448 - accuracy: 0.7357 - 15ms/epoch - 623us/step\n",
      "Epoch 71/75\n",
      "24/24 - 0s - loss: 0.5443 - accuracy: 0.7318 - 16ms/epoch - 665us/step\n",
      "Epoch 72/75\n",
      "24/24 - 0s - loss: 0.5459 - accuracy: 0.7409 - 15ms/epoch - 623us/step\n",
      "Epoch 73/75\n",
      "24/24 - 0s - loss: 0.5495 - accuracy: 0.7253 - 17ms/epoch - 706us/step\n",
      "Epoch 74/75\n",
      "24/24 - 0s - loss: 0.5828 - accuracy: 0.7174 - 17ms/epoch - 706us/step\n",
      "Epoch 75/75\n",
      "24/24 - 0s - loss: 0.5561 - accuracy: 0.7370 - 15ms/epoch - 623us/step\n"
     ]
    }
   ],
   "source": [
    "historial = model.fit(\n",
    "    X.values,\n",
    "    y.values,\n",
    "    epochs=75,\n",
    "    verbose=2\n",
    ")"
   ]
  },
  {
   "cell_type": "code",
   "execution_count": 10,
   "metadata": {},
   "outputs": [
    {
     "data": {
      "image/png": "[encoded data removed]",
      "text/plain": [
       "<Figure size 432x288 with 1 Axes>"
      ]
     },
     "metadata": {
      "needs_background": "light"
     },
     "output_type": "display_data"
    }
   ],
   "source": [
    "plt.plot(historial.history['loss'])\n",
    "plt.show()"
   ]
  },
  {
   "cell_type": "code",
   "execution_count": 11,
   "metadata": {},
   "outputs": [
    {
     "data": {
      "image/png": "[encoded data removed]",
      "text/plain": [
       "<Figure size 432x288 with 1 Axes>"
      ]
     },
     "metadata": {
      "needs_background": "light"
     },
     "output_type": "display_data"
    }
   ],
   "source": [
    "plt.plot(historial.history['accuracy'])\n",
    "plt.show()"
   ]
  }
 ],
 "metadata": {
  "kernelspec": {
   "display_name": "Python 3 (ipykernel)",
   "language": "python",
   "name": "python3"
  },
  "language_info": {
   "codemirror_mode": {
    "name": "ipython",
    "version": 3
   },
   "file_extension": ".py",
   "mimetype": "text/x-python",
   "name": "python",
   "nbconvert_exporter": "python",
   "pygments_lexer": "ipython3",
   "version": "3.9.7"
  }
 },
 "nbformat": 4,
 "nbformat_minor": 2
}
