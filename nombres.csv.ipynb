{
 "cells": [
  {
   "cell_type": "code",
   "execution_count": null,
   "metadata": {},
   "outputs": [],
   "source": [
    "# Manipulación de matrices\n",
    "import pandas as pd\n",
    "# Operaciones numéricas\n",
    "import numpy as np"
   ]
  },
  {
   "cell_type": "markdown",
   "metadata": {},
   "source": [
    "El set de datos de **nombres** contiene los registros de la cantidad de personas con un nombre específico, nacidas por año en cada estado de Estados Unidos, desde 1910 hasta 2017."
   ]
  },
  {
   "cell_type": "markdown",
   "metadata": {},
   "source": [
    "Pandas permite leer diversos tipos de archivo, como csv, json, xlsx, etc. Usualmente, los datos a utilizar en inteligencia artificial se almacenan en formato csv."
   ]
  },
  {
   "cell_type": "code",
   "execution_count": null,
   "metadata": {},
   "outputs": [],
   "source": [
    "# Leer el archivo nombres.csv y convertirlo en un df\n",
    "df_base = pd.read_csv('nombres.csv')\n",
    "# Ver los primeros registros del df\n",
    "df_base.head()"
   ]
  },
  {
   "cell_type": "code",
   "execution_count": null,
   "metadata": {},
   "outputs": [],
   "source": []
  }
 ],
 "metadata": {
  "kernelspec": {
   "display_name": "Python 3.8.10 32-bit",
   "language": "python",
   "name": "python3"
  },
  "language_info": {
   "codemirror_mode": {
    "name": "ipython",
    "version": 3
   },
   "file_extension": ".py",
   "mimetype": "text/x-python",
   "name": "python",
   "nbconvert_exporter": "python",
   "pygments_lexer": "ipython3",
   "version": "3.8.10"
  },
  "vscode": {
   "interpreter": {
    "hash": "598f313ca937d4f11aff743fc9945bfd31dab1b8d1cc8a21c63eac298c142b70"
   }
  }
 },
 "nbformat": 4,
 "nbformat_minor": 2
}
